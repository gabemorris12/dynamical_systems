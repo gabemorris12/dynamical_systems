{
 "cells": [
  {
   "cell_type": "code",
   "id": "initial_id",
   "metadata": {
    "collapsed": true,
    "ExecuteTime": {
     "end_time": "2025-02-06T18:06:58.702946Z",
     "start_time": "2025-02-06T18:06:57.703488Z"
    }
   },
   "source": [
    "# toc\n",
    "import matplotlib.pyplot as plt\n",
    "\n",
    "plt.style.use('../maroon_ipynb.mplstyle')"
   ],
   "outputs": [],
   "execution_count": 1
  },
  {
   "metadata": {},
   "cell_type": "markdown",
   "source": [
    "# Problem 1\n",
    "## Given\n",
    "A hydraulic power supply (comprising a motor-driven pump and a relief valve) has the pressure-flow characteristic plotted on the left below. It drives a positive displacement hydraulic motor which in turn rotates a shaft that drives some mechanical equipment. Frictional and leakage losses in the hydraulic motor may be neglected. The characteristics of the mechanical load are plotted on the right below.\n",
    "\n",
    "![Figure 1](fig1.png)\n",
    "\n",
    "## Find\n",
    "\n",
    "a. Define key variables and place them on both the drawing and a bond-graph model of the system.\n",
    "b. Find the maximum possible speed of the load.\n",
    "c. Determine the volumetric displacement per revolution of the hydraulic motor.\n",
    "\n",
    "## Solution\n",
    "### Part A\n",
    "\n",
    "![Figure 2](fig2.png)\n",
    "\n",
    "In the above image, the source, $S$, causes a pressure difference, $P_s$, in the hydraulic rotary motor (the transformer $T$). This pressure difference causes a flow rate, $Q$, in the motor. The motor then induces a moment, $M_L$, on a shaft connected to the mechanical load, $R$. This in turn causes the load to rotate at a speed, $\\omega$. The load also produces a resistant pressure, $P_L$, on the source. This ideal machine yields the following relationships:\n",
    "\n",
    "$$P_s=TM_L$$\n",
    "$$\\omega=TQ$$"
   ],
   "id": "f951f2dcc0f38913"
  }
 ],
 "metadata": {
  "kernelspec": {
   "display_name": "Python 3",
   "language": "python",
   "name": "python3"
  },
  "language_info": {
   "codemirror_mode": {
    "name": "ipython",
    "version": 2
   },
   "file_extension": ".py",
   "mimetype": "text/x-python",
   "name": "python",
   "nbconvert_exporter": "python",
   "pygments_lexer": "ipython2",
   "version": "2.7.6"
  }
 },
 "nbformat": 4,
 "nbformat_minor": 5
}
