{
 "cells": [
  {
   "cell_type": "code",
   "id": "initial_id",
   "metadata": {
    "collapsed": true,
    "ExecuteTime": {
     "end_time": "2025-03-19T17:38:33.155393Z",
     "start_time": "2025-03-19T17:38:32.520735Z"
    }
   },
   "source": [
    "# toc\n",
    "import sympy as sp\n",
    "import matplotlib.pyplot as plt\n",
    "\n",
    "plt.style.use('../maroon_ipynb.mplstyle')"
   ],
   "outputs": [],
   "execution_count": 1
  },
  {
   "metadata": {},
   "cell_type": "markdown",
   "source": [
    "# Problem 1\n",
    "## Given\n",
    "![Figure 1](fig1.png)\n",
    "\n",
    "The constants from the above figure are given as follows:\n",
    "\n",
    "$$\n",
    "\\begin{gathered}\n",
    "r = 0.05\\, m\\\\\n",
    "k_1 = 1000\\, N/m\\\\\n",
    "k_2 = 500\\, N/m \\\\\n",
    "b = 100\\, N\\cdot s/m \\\\\n",
    "B = 2.5\\, N\\cdot m\\cdot s \\\\\n",
    "J_1 = J_2 = 1\\, kg\\cdot m^2 \\\\\n",
    "m = 1\\, kg\n",
    "\\end{gathered}\n",
    "$$\n",
    "\n",
    "## Find\n",
    "With the above system,\n",
    "\n",
    "a. Develop a set of state variable equations. Define the state variable using the general matrix form: $\\dot{S}=A\\cdot S + B\\cdot U$, where $A$ and $B$ are matrices and $S$ is a vector of state variables and $U$ is a vector of inputs. Be careful with labeling since one of the damping coefficients is also labeled $B$ in the figure.\n",
    "b. Solve the state variable equations using a 4th order Runge-Kutta numerical method for a total simulation time of 20 seconds and assuming that all initial velocities and spring forces are zero and that $f(t)=10\\,N$. Make sure the check that the number of points used in the simulation is adequate.\n",
    "c. Verify your results using energy conservation. Show that at a given time, $t$, the total energy that has crossed the boundary through inputs and dampers is equal to the total energy stored in the system through mass/inertias and springs.\n",
    "d. Use the output matrix form $Y=C\\cdot S + D\\cdot U$, where $Y$ is the chosen output and $C$ and $D$ are matrices. Use this form to define the contact force between the rack and the pinion using state variable simulation results. Then plot the contact force.\n",
    "e. Find the input-output equation between the input force and the contact force. One approach of doing this is the use the `ss2tf` function in the `scipy.signal` module.\n",
    "f. Use the laplace transform approach to solve the input-output equation and compare with results from part d. Comment on how the roots of the characteristic polynomial affect the response.\n",
    "\n",
    "## Solution\n",
    "### Part A\n",
    "From the above figure, the massless element is denoted as $x_1$ and the mass denoted by $m$ is $x_2$."
   ],
   "id": "1d69809273705161"
  },
  {
   "metadata": {
    "ExecuteTime": {
     "end_time": "2025-03-19T17:38:33.218371Z",
     "start_time": "2025-03-19T17:38:33.159399Z"
    }
   },
   "cell_type": "code",
   "source": [
    "# Define symbols\n",
    "r, k1, k2, b, B, J1, J2, m, F_c, t, s = sp.symbols('r k1 k2 b B J1 J2 m F_c t s')\n",
    "th1, th2 = sp.Function('theta_1')(t), sp.Function('theta_2')(t)\n",
    "x1, x2 = sp.Function('x1')(t), sp.Function('x2')(t)\n",
    "f = sp.Function('f')(t)\n",
    "\n",
    "# Construct equations\n",
    "eq1 = sp.Eq(0, f - F_c - b*x1.diff() + k1*(x2 - x1))\n",
    "eq2 = sp.Eq(m*x2.diff(t, 2), k1*(x1 - x2))\n",
    "eq3 = sp.Eq(J1*th1.diff(t, 2), F_c*r + k2*(th2 - th1))\n",
    "eq4 = sp.Eq(J2*th2.diff(t, 2), k2*(th1 - th2) - B*th2.diff())\n",
    "eq5 = sp.Eq(x1.diff(t, 2), r*th1.diff(t, 2))\n",
    "eqs = [eq1, eq2, eq3, eq4, eq5]\n",
    "display(*eqs)"
   ],
   "id": "a6a732e70f105ad0",
   "outputs": [
    {
     "data": {
      "text/plain": [
       "Eq(0, -F_c - b*Derivative(x1(t), t) + k1*(-x1(t) + x2(t)) + f(t))"
      ],
      "text/latex": "$\\displaystyle 0 = - F_{c} - b \\frac{d}{d t} x_{1}{\\left(t \\right)} + k_{1} \\left(- x_{1}{\\left(t \\right)} + x_{2}{\\left(t \\right)}\\right) + f{\\left(t \\right)}$"
     },
     "metadata": {},
     "output_type": "display_data"
    },
    {
     "data": {
      "text/plain": [
       "Eq(m*Derivative(x2(t), (t, 2)), k1*(x1(t) - x2(t)))"
      ],
      "text/latex": "$\\displaystyle m \\frac{d^{2}}{d t^{2}} x_{2}{\\left(t \\right)} = k_{1} \\left(x_{1}{\\left(t \\right)} - x_{2}{\\left(t \\right)}\\right)$"
     },
     "metadata": {},
     "output_type": "display_data"
    },
    {
     "data": {
      "text/plain": [
       "Eq(J1*Derivative(theta_1(t), (t, 2)), F_c*r + k2*(-theta_1(t) + theta_2(t)))"
      ],
      "text/latex": "$\\displaystyle J_{1} \\frac{d^{2}}{d t^{2}} \\theta_{1}{\\left(t \\right)} = F_{c} r + k_{2} \\left(- \\theta_{1}{\\left(t \\right)} + \\theta_{2}{\\left(t \\right)}\\right)$"
     },
     "metadata": {},
     "output_type": "display_data"
    },
    {
     "data": {
      "text/plain": [
       "Eq(J2*Derivative(theta_2(t), (t, 2)), -B*Derivative(theta_2(t), t) + k2*(theta_1(t) - theta_2(t)))"
      ],
      "text/latex": "$\\displaystyle J_{2} \\frac{d^{2}}{d t^{2}} \\theta_{2}{\\left(t \\right)} = - B \\frac{d}{d t} \\theta_{2}{\\left(t \\right)} + k_{2} \\left(\\theta_{1}{\\left(t \\right)} - \\theta_{2}{\\left(t \\right)}\\right)$"
     },
     "metadata": {},
     "output_type": "display_data"
    },
    {
     "data": {
      "text/plain": [
       "Eq(Derivative(x1(t), (t, 2)), r*Derivative(theta_1(t), (t, 2)))"
      ],
      "text/latex": "$\\displaystyle \\frac{d^{2}}{d t^{2}} x_{1}{\\left(t \\right)} = r \\frac{d^{2}}{d t^{2}} \\theta_{1}{\\left(t \\right)}$"
     },
     "metadata": {},
     "output_type": "display_data"
    }
   ],
   "execution_count": 2
  },
  {
   "metadata": {},
   "cell_type": "markdown",
   "source": [
    "Let's clean this up a little by considering the velocities $v_1$, $v_2$, $\\omega_1$, and $\\omega_2$. Also, let's omit considering the coordinate positions in the system and only look to the displacements of the compliance elements. I will define $\\Delta x$ and $\\Delta\\theta$ as\n",
    "\n",
    "$$\\begin{cases}\n",
    "\\Delta x = x_2 - x_1 \\\\\n",
    "\\Delta\\theta = \\theta_2 - \\theta_1\n",
    "\\end{cases}$$"
   ],
   "id": "8aafd8e3e7d638e6"
  },
  {
   "metadata": {
    "ExecuteTime": {
     "end_time": "2025-03-19T17:38:33.421149Z",
     "start_time": "2025-03-19T17:38:33.384121Z"
    }
   },
   "cell_type": "code",
   "source": [
    "d_theta = sp.Function(r'\\Delta\\theta')(t)\n",
    "d_x = sp.Function(r'\\Delta x')(t)\n",
    "\n",
    "v1, v2 = sp.Function('v1')(t), sp.Function('v2')(t)\n",
    "omega1, omega2 = sp.Function(r'\\omega_1')(t), sp.Function(r'\\omega_2')(t)\n",
    "\n",
    "subs = [\n",
    "    (x2 - x1, d_x),\n",
    "    (th2 - th1, d_theta),\n",
    "    (x1.diff(), v1),\n",
    "    (x2.diff(), v2),\n",
    "    (th1.diff(), omega1),\n",
    "    (th2.diff(), omega2)\n",
    "]\n",
    "\n",
    "eqs = [eq.subs(subs) for eq in eqs]\n",
    "display(*eqs)"
   ],
   "id": "7ebb36494657e9f",
   "outputs": [
    {
     "data": {
      "text/plain": [
       "Eq(0, -F_c - b*v1(t) + k1*\\Delta x(t) + f(t))"
      ],
      "text/latex": "$\\displaystyle 0 = - F_{c} - b v_{1}{\\left(t \\right)} + k_{1} \\Delta x{\\left(t \\right)} + f{\\left(t \\right)}$"
     },
     "metadata": {},
     "output_type": "display_data"
    },
    {
     "data": {
      "text/plain": [
       "Eq(m*Derivative(v2(t), t), -k1*\\Delta x(t))"
      ],
      "text/latex": "$\\displaystyle m \\frac{d}{d t} v_{2}{\\left(t \\right)} = - k_{1} \\Delta x{\\left(t \\right)}$"
     },
     "metadata": {},
     "output_type": "display_data"
    },
    {
     "data": {
      "text/plain": [
       "Eq(J1*Derivative(\\omega_1(t), t), F_c*r + k2*\\Delta\\theta(t))"
      ],
      "text/latex": "$\\displaystyle J_{1} \\frac{d}{d t} \\omega_{1}{\\left(t \\right)} = F_{c} r + k_{2} \\Delta\\theta{\\left(t \\right)}$"
     },
     "metadata": {},
     "output_type": "display_data"
    },
    {
     "data": {
      "text/plain": [
       "Eq(J2*Derivative(\\omega_2(t), t), -B*\\omega_2(t) - k2*\\Delta\\theta(t))"
      ],
      "text/latex": "$\\displaystyle J_{2} \\frac{d}{d t} \\omega_{2}{\\left(t \\right)} = - B \\omega_{2}{\\left(t \\right)} - k_{2} \\Delta\\theta{\\left(t \\right)}$"
     },
     "metadata": {},
     "output_type": "display_data"
    },
    {
     "data": {
      "text/plain": [
       "Eq(Derivative(v1(t), t), r*Derivative(\\omega_1(t), t))"
      ],
      "text/latex": "$\\displaystyle \\frac{d}{d t} v_{1}{\\left(t \\right)} = r \\frac{d}{d t} \\omega_{1}{\\left(t \\right)}$"
     },
     "metadata": {},
     "output_type": "display_data"
    }
   ],
   "execution_count": 3
  },
  {
   "metadata": {},
   "cell_type": "markdown",
   "source": "Now we can solve this system for $\\dot{v}_1$, $\\dot{v}_2$, $\\dot{\\omega}_1$ $\\dot{\\omega}_2$. Additionally, I will solve for $F_c$ to be used later.",
   "id": "bed759060d153922"
  },
  {
   "metadata": {
    "ExecuteTime": {
     "end_time": "2025-03-19T17:38:33.517241Z",
     "start_time": "2025-03-19T17:38:33.431173Z"
    }
   },
   "cell_type": "code",
   "source": [
    "state_sol = sp.solve(eqs, (v1.diff(), v2.diff(), omega1.diff(), omega2.diff(), F_c), dict=True)[0]\n",
    "for key, value in state_sol.items():\n",
    "    display(sp.Eq(key, value))"
   ],
   "id": "cc4218d2dc53a6a7",
   "outputs": [
    {
     "data": {
      "text/plain": [
       "Eq(F_c, -b*v1(t) + k1*\\Delta x(t) + f(t))"
      ],
      "text/latex": "$\\displaystyle F_{c} = - b v_{1}{\\left(t \\right)} + k_{1} \\Delta x{\\left(t \\right)} + f{\\left(t \\right)}$"
     },
     "metadata": {},
     "output_type": "display_data"
    },
    {
     "data": {
      "text/plain": [
       "Eq(Derivative(\\omega_1(t), t), -b*r*v1(t)/J1 + k1*r*\\Delta x(t)/J1 + k2*\\Delta\\theta(t)/J1 + r*f(t)/J1)"
      ],
      "text/latex": "$\\displaystyle \\frac{d}{d t} \\omega_{1}{\\left(t \\right)} = - \\frac{b r v_{1}{\\left(t \\right)}}{J_{1}} + \\frac{k_{1} r \\Delta x{\\left(t \\right)}}{J_{1}} + \\frac{k_{2} \\Delta\\theta{\\left(t \\right)}}{J_{1}} + \\frac{r f{\\left(t \\right)}}{J_{1}}$"
     },
     "metadata": {},
     "output_type": "display_data"
    },
    {
     "data": {
      "text/plain": [
       "Eq(Derivative(\\omega_2(t), t), -B*\\omega_2(t)/J2 - k2*\\Delta\\theta(t)/J2)"
      ],
      "text/latex": "$\\displaystyle \\frac{d}{d t} \\omega_{2}{\\left(t \\right)} = - \\frac{B \\omega_{2}{\\left(t \\right)}}{J_{2}} - \\frac{k_{2} \\Delta\\theta{\\left(t \\right)}}{J_{2}}$"
     },
     "metadata": {},
     "output_type": "display_data"
    },
    {
     "data": {
      "text/plain": [
       "Eq(Derivative(v1(t), t), -b*r**2*v1(t)/J1 + k1*r**2*\\Delta x(t)/J1 + k2*r*\\Delta\\theta(t)/J1 + r**2*f(t)/J1)"
      ],
      "text/latex": "$\\displaystyle \\frac{d}{d t} v_{1}{\\left(t \\right)} = - \\frac{b r^{2} v_{1}{\\left(t \\right)}}{J_{1}} + \\frac{k_{1} r^{2} \\Delta x{\\left(t \\right)}}{J_{1}} + \\frac{k_{2} r \\Delta\\theta{\\left(t \\right)}}{J_{1}} + \\frac{r^{2} f{\\left(t \\right)}}{J_{1}}$"
     },
     "metadata": {},
     "output_type": "display_data"
    },
    {
     "data": {
      "text/plain": [
       "Eq(Derivative(v2(t), t), -k1*\\Delta x(t)/m)"
      ],
      "text/latex": "$\\displaystyle \\frac{d}{d t} v_{2}{\\left(t \\right)} = - \\frac{k_{1} \\Delta x{\\left(t \\right)}}{m}$"
     },
     "metadata": {},
     "output_type": "display_data"
    }
   ],
   "execution_count": 4
  },
  {
   "metadata": {},
   "cell_type": "markdown",
   "source": "Notice in the above solution that we don't have any terms that include $\\omega_1$. This is due to the direct algebraic relationship and the order in which `sympy` solved the system. Therefore, we can ignore the $\\dot{\\omega}_1$ equation. Also, the solution for $F_c$ is not an ODE so it isn't directly a part of the state space solution.",
   "id": "3a5e96d61de50fc8"
  },
  {
   "metadata": {
    "ExecuteTime": {
     "end_time": "2025-03-19T17:38:33.553276Z",
     "start_time": "2025-03-19T17:38:33.530269Z"
    }
   },
   "cell_type": "code",
   "source": [
    "# Getting the final five equations\n",
    "eq1 = sp.Eq(d_x.diff(), v2 - v1)\n",
    "eq2 = sp.Eq(d_theta.diff(), omega2 - v1/r)\n",
    "eq3 = sp.Eq(v1.diff(), state_sol[v1.diff()])\n",
    "eq4 = sp.Eq(v2.diff(), state_sol[v2.diff()])\n",
    "eq5 = sp.Eq(omega2.diff(), state_sol[omega2.diff()])\n",
    "eqs = [eq1, eq2, eq3, eq4, eq5]\n",
    "display(*eqs)"
   ],
   "id": "7d41cc775685eef6",
   "outputs": [
    {
     "data": {
      "text/plain": [
       "Eq(Derivative(\\Delta x(t), t), -v1(t) + v2(t))"
      ],
      "text/latex": "$\\displaystyle \\frac{d}{d t} \\Delta x{\\left(t \\right)} = - v_{1}{\\left(t \\right)} + v_{2}{\\left(t \\right)}$"
     },
     "metadata": {},
     "output_type": "display_data"
    },
    {
     "data": {
      "text/plain": [
       "Eq(Derivative(\\Delta\\theta(t), t), \\omega_2(t) - v1(t)/r)"
      ],
      "text/latex": "$\\displaystyle \\frac{d}{d t} \\Delta\\theta{\\left(t \\right)} = \\omega_{2}{\\left(t \\right)} - \\frac{v_{1}{\\left(t \\right)}}{r}$"
     },
     "metadata": {},
     "output_type": "display_data"
    },
    {
     "data": {
      "text/plain": [
       "Eq(Derivative(v1(t), t), -b*r**2*v1(t)/J1 + k1*r**2*\\Delta x(t)/J1 + k2*r*\\Delta\\theta(t)/J1 + r**2*f(t)/J1)"
      ],
      "text/latex": "$\\displaystyle \\frac{d}{d t} v_{1}{\\left(t \\right)} = - \\frac{b r^{2} v_{1}{\\left(t \\right)}}{J_{1}} + \\frac{k_{1} r^{2} \\Delta x{\\left(t \\right)}}{J_{1}} + \\frac{k_{2} r \\Delta\\theta{\\left(t \\right)}}{J_{1}} + \\frac{r^{2} f{\\left(t \\right)}}{J_{1}}$"
     },
     "metadata": {},
     "output_type": "display_data"
    },
    {
     "data": {
      "text/plain": [
       "Eq(Derivative(v2(t), t), -k1*\\Delta x(t)/m)"
      ],
      "text/latex": "$\\displaystyle \\frac{d}{d t} v_{2}{\\left(t \\right)} = - \\frac{k_{1} \\Delta x{\\left(t \\right)}}{m}$"
     },
     "metadata": {},
     "output_type": "display_data"
    },
    {
     "data": {
      "text/plain": [
       "Eq(Derivative(\\omega_2(t), t), -B*\\omega_2(t)/J2 - k2*\\Delta\\theta(t)/J2)"
      ],
      "text/latex": "$\\displaystyle \\frac{d}{d t} \\omega_{2}{\\left(t \\right)} = - \\frac{B \\omega_{2}{\\left(t \\right)}}{J_{2}} - \\frac{k_{2} \\Delta\\theta{\\left(t \\right)}}{J_{2}}$"
     },
     "metadata": {},
     "output_type": "display_data"
    }
   ],
   "execution_count": 5
  },
  {
   "metadata": {
    "tags": [
     "highlight-output"
    ],
    "ExecuteTime": {
     "end_time": "2025-03-19T17:38:33.778443Z",
     "start_time": "2025-03-19T17:38:33.566134Z"
    }
   },
   "cell_type": "code",
   "source": [
    "# Putting it in the state space form\n",
    "S_dot = sp.Matrix([eq.lhs for eq in eqs])\n",
    "S = S_dot.integrate(t)\n",
    "rhs = [eq.rhs for eq in eqs]\n",
    "A, b = sp.linear_eq_to_matrix(rhs, list(S))\n",
    "B = -b/f\n",
    "U = sp.Matrix([f])\n",
    "ans = sp.Eq(S_dot, sp.Add(sp.MatMul(A, S), sp.MatMul(B, U)))  # doing this makes it not simplify\n",
    "ans"
   ],
   "id": "56c2b5c3db7ae91",
   "outputs": [
    {
     "data": {
      "text/plain": [
       "Eq(Matrix([\n",
       "[    Derivative(\\Delta x(t), t)],\n",
       "[Derivative(\\Delta\\theta(t), t)],\n",
       "[          Derivative(v1(t), t)],\n",
       "[          Derivative(v2(t), t)],\n",
       "[    Derivative(\\omega_2(t), t)]]), Matrix([\n",
       "[      0],\n",
       "[      0],\n",
       "[r**2/J1],\n",
       "[      0],\n",
       "[      0]])*Matrix([[f(t)]]) + Matrix([\n",
       "[         0,       0,         -1, 1,     0],\n",
       "[         0,       0,       -1/r, 0,     1],\n",
       "[k1*r**2/J1, k2*r/J1, -b*r**2/J1, 0,     0],\n",
       "[     -k1/m,       0,          0, 0,     0],\n",
       "[         0,  -k2/J2,          0, 0, -B/J2]])*Matrix([\n",
       "[    \\Delta x(t)],\n",
       "[\\Delta\\theta(t)],\n",
       "[          v1(t)],\n",
       "[          v2(t)],\n",
       "[    \\omega_2(t)]]))"
      ],
      "text/latex": "$\\displaystyle \\left[\\begin{matrix}\\frac{d}{d t} \\Delta x{\\left(t \\right)}\\\\\\frac{d}{d t} \\Delta\\theta{\\left(t \\right)}\\\\\\frac{d}{d t} v_{1}{\\left(t \\right)}\\\\\\frac{d}{d t} v_{2}{\\left(t \\right)}\\\\\\frac{d}{d t} \\omega_{2}{\\left(t \\right)}\\end{matrix}\\right] = \\left[\\begin{matrix}0\\\\0\\\\\\frac{r^{2}}{J_{1}}\\\\0\\\\0\\end{matrix}\\right] \\left[\\begin{matrix}f{\\left(t \\right)}\\end{matrix}\\right] + \\left[\\begin{matrix}0 & 0 & -1 & 1 & 0\\\\0 & 0 & - \\frac{1}{r} & 0 & 1\\\\\\frac{k_{1} r^{2}}{J_{1}} & \\frac{k_{2} r}{J_{1}} & - \\frac{b r^{2}}{J_{1}} & 0 & 0\\\\- \\frac{k_{1}}{m} & 0 & 0 & 0 & 0\\\\0 & - \\frac{k_{2}}{J_{2}} & 0 & 0 & - \\frac{B}{J_{2}}\\end{matrix}\\right] \\left[\\begin{matrix}\\Delta x{\\left(t \\right)}\\\\\\Delta\\theta{\\left(t \\right)}\\\\v_{1}{\\left(t \\right)}\\\\v_{2}{\\left(t \\right)}\\\\\\omega_{2}{\\left(t \\right)}\\end{matrix}\\right]$"
     },
     "execution_count": 6,
     "metadata": {},
     "output_type": "execute_result"
    }
   ],
   "execution_count": 6
  }
 ],
 "metadata": {
  "kernelspec": {
   "display_name": "Python 3",
   "language": "python",
   "name": "python3"
  },
  "language_info": {
   "codemirror_mode": {
    "name": "ipython",
    "version": 2
   },
   "file_extension": ".py",
   "mimetype": "text/x-python",
   "name": "python",
   "nbconvert_exporter": "python",
   "pygments_lexer": "ipython2",
   "version": "2.7.6"
  }
 },
 "nbformat": 4,
 "nbformat_minor": 5
}
