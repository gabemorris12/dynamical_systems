{
 "cells": [
  {
   "cell_type": "code",
   "id": "initial_id",
   "metadata": {
    "collapsed": true,
    "ExecuteTime": {
     "end_time": "2025-03-19T16:27:25.187260Z",
     "start_time": "2025-03-19T16:27:24.531146Z"
    }
   },
   "source": [
    "# toc\n",
    "import sympy as sp\n",
    "import matplotlib.pyplot as plt\n",
    "\n",
    "plt.style.use('../maroon_ipynb.mplstyle')"
   ],
   "outputs": [],
   "execution_count": 1
  },
  {
   "metadata": {},
   "cell_type": "markdown",
   "source": [
    "# Problem 1\n",
    "## Given\n",
    "![Figure 1](fig1.png)\n",
    "\n",
    "The constants from the above figure are given as follows:\n",
    "\n",
    "$$\n",
    "\\begin{gathered}\n",
    "r = 0.05\\, m\\\\\n",
    "k_1 = 1000\\, N/m\\\\\n",
    "k_2 = 500\\, N/m \\\\\n",
    "b = 100\\, N\\cdot s/m \\\\\n",
    "B = 2.5\\, N\\cdot m\\cdot s \\\\\n",
    "J_1 = J_2 = 1\\, kg\\cdot m^2 \\\\\n",
    "m = 1\\, kg\n",
    "\\end{gathered}\n",
    "$$\n",
    "\n",
    "## Find\n",
    "With the above system,\n",
    "\n",
    "a. Develop a set of state variable equations. Define the state variable using the general matrix form: $\\dot{S}=A\\cdot S + B\\cdot U$, where $A$ and $B$ are matrices and $S$ is a vector of state variables and $U$ is a vector of inputs. Be careful with labeling since one of the damping coefficients is also labeled $B$ in the figure.\n",
    "b. Solve the state variable equations using a 4th order Runge-Kutta numerical method for a total simulation time of 20 seconds and assuming that all initial velocities and spring forces are zero and that $f(t)=10\\,N$. Make sure the check that the number of points used in the simulation is adequate.\n",
    "c. Verify your results using energy conservation. Show that at a given time, $t$, the total energy that has crossed the boundary through inputs and dampers is equal to the total energy stored in the system through mass/inertias and springs.\n",
    "d. Use the output matrix form $Y=C\\cdot S + D\\cdot U$, where $Y$ is the chosen output and $C$ and $D$ are matrices. Use this form to define the contact force between the rack and the pinion using state variable simulation results. Then plot the contact force.\n",
    "e. Find the input-output equation between the input force and the contact force. One approach of doing this is the use the `ss2tf` function in the `scipy.signal` module.\n",
    "f. Use the laplace transform approach to solve the input-output equation and compare with results from part d. Comment on how the roots of the characteristic polynomial affect the response.\n",
    "\n",
    "## Solution\n",
    "### Part A\n",
    "From the above figure, the massless element is denoted as $x_1$ and the mass denoted by $m$ is $x_2$."
   ],
   "id": "1d69809273705161"
  },
  {
   "metadata": {
    "ExecuteTime": {
     "end_time": "2025-03-19T16:27:25.270163Z",
     "start_time": "2025-03-19T16:27:25.194269Z"
    }
   },
   "cell_type": "code",
   "source": [
    "# Define symbols\n",
    "r, k1, k2, b, B, J1, J2, m, F_c, t, s = sp.symbols('r k1 k2 b B J1 J2 m F_c t s')\n",
    "th1, th2 = sp.Function('theta_1')(t), sp.Function('theta_2')(t)\n",
    "x1, x2 = sp.Function('x1')(t), sp.Function('x2')(t)\n",
    "f = sp.Function('f')(t)\n",
    "\n",
    "# Construct equations\n",
    "eq1 = sp.Eq(0, f - F_c - b*x1.diff() + k1*(x2 - x1))\n",
    "eq2 = sp.Eq(m*x2.diff(t, 2), k1*(x1 - x2))\n",
    "eq3 = sp.Eq(J1*th1.diff(t, 2), F_c*r + k2*(th2 - th1))\n",
    "eq4 = sp.Eq(J2*th2.diff(t, 2), k2*(th1 - th2) - B*th2.diff())\n",
    "eq5 = sp.Eq(x1.diff(t, 2), r*th1.diff(t, 2))\n",
    "eqs = [eq1, eq2, eq3, eq4, eq5]\n",
    "display(*eqs)"
   ],
   "id": "a6a732e70f105ad0",
   "outputs": [
    {
     "data": {
      "text/plain": [
       "Eq(0, -F_c - b*Derivative(x1(t), t) + k1*(-x1(t) + x2(t)) + f(t))"
      ],
      "text/latex": "$\\displaystyle 0 = - F_{c} - b \\frac{d}{d t} x_{1}{\\left(t \\right)} + k_{1} \\left(- x_{1}{\\left(t \\right)} + x_{2}{\\left(t \\right)}\\right) + f{\\left(t \\right)}$"
     },
     "metadata": {},
     "output_type": "display_data"
    },
    {
     "data": {
      "text/plain": [
       "Eq(m*Derivative(x2(t), (t, 2)), k1*(x1(t) - x2(t)))"
      ],
      "text/latex": "$\\displaystyle m \\frac{d^{2}}{d t^{2}} x_{2}{\\left(t \\right)} = k_{1} \\left(x_{1}{\\left(t \\right)} - x_{2}{\\left(t \\right)}\\right)$"
     },
     "metadata": {},
     "output_type": "display_data"
    },
    {
     "data": {
      "text/plain": [
       "Eq(J1*Derivative(theta_1(t), (t, 2)), F_c*r + k2*(-theta_1(t) + theta_2(t)))"
      ],
      "text/latex": "$\\displaystyle J_{1} \\frac{d^{2}}{d t^{2}} \\theta_{1}{\\left(t \\right)} = F_{c} r + k_{2} \\left(- \\theta_{1}{\\left(t \\right)} + \\theta_{2}{\\left(t \\right)}\\right)$"
     },
     "metadata": {},
     "output_type": "display_data"
    },
    {
     "data": {
      "text/plain": [
       "Eq(J2*Derivative(theta_2(t), (t, 2)), -B*Derivative(theta_2(t), t) + k2*(theta_1(t) - theta_2(t)))"
      ],
      "text/latex": "$\\displaystyle J_{2} \\frac{d^{2}}{d t^{2}} \\theta_{2}{\\left(t \\right)} = - B \\frac{d}{d t} \\theta_{2}{\\left(t \\right)} + k_{2} \\left(\\theta_{1}{\\left(t \\right)} - \\theta_{2}{\\left(t \\right)}\\right)$"
     },
     "metadata": {},
     "output_type": "display_data"
    },
    {
     "data": {
      "text/plain": [
       "Eq(Derivative(x1(t), (t, 2)), r*Derivative(theta_1(t), (t, 2)))"
      ],
      "text/latex": "$\\displaystyle \\frac{d^{2}}{d t^{2}} x_{1}{\\left(t \\right)} = r \\frac{d^{2}}{d t^{2}} \\theta_{1}{\\left(t \\right)}$"
     },
     "metadata": {},
     "output_type": "display_data"
    }
   ],
   "execution_count": 2
  },
  {
   "metadata": {},
   "cell_type": "markdown",
   "source": [
    "To make this a system of first order ODEs, we need to add these state variable relationships:\n",
    "\n",
    "$$\\begin{cases}\n",
    "\\dot{x}_1 = x_3 \\\\\n",
    "\\dot{x}_2 = x_4 \\\\\n",
    "\\dot{\\theta}_1 = \\theta_3 \\\\\n",
    "\\dot{\\theta}_2 = \\theta_4\n",
    "\\end{cases}$$\n",
    "\n",
    "The reason why I prefer this method of ensuring each coordinate system is in the state variable model over using the deltas (i.e. $\\Delta x$ and $\\Delta\\theta$) is that you get a more meaningful solution. I'd rather solve for the coordinate positions instead of the displacement between two coordinate positions. However, I do think that the latter method is more convenient for hand calculations and can be a little faster at setting up the system."
   ],
   "id": "8aafd8e3e7d638e6"
  },
  {
   "metadata": {
    "ExecuteTime": {
     "end_time": "2025-03-19T16:27:25.512728Z",
     "start_time": "2025-03-19T16:27:25.471211Z"
    }
   },
   "cell_type": "code",
   "source": [
    "x3, x4 = sp.Function('x3')(t), sp.Function('x4')(t)\n",
    "th3, th4 = sp.Function('theta_3')(t), sp.Function('theta_4')(t)\n",
    "\n",
    "subs = [\n",
    "    (x1.diff(), x3),\n",
    "    (x2.diff(), x4),\n",
    "    (th1.diff(), th3),\n",
    "    (th2.diff(), th4)\n",
    "]\n",
    "\n",
    "state_eqs = [sp.Eq(sub[0], sub[1]) for sub in subs]\n",
    "\n",
    "eqs = [eq.subs(subs) for eq in eqs] + state_eqs\n",
    "display(*eqs)"
   ],
   "id": "546009f9ce0e8d",
   "outputs": [
    {
     "data": {
      "text/plain": [
       "Eq(0, -F_c - b*x3(t) + k1*(-x1(t) + x2(t)) + f(t))"
      ],
      "text/latex": "$\\displaystyle 0 = - F_{c} - b x_{3}{\\left(t \\right)} + k_{1} \\left(- x_{1}{\\left(t \\right)} + x_{2}{\\left(t \\right)}\\right) + f{\\left(t \\right)}$"
     },
     "metadata": {},
     "output_type": "display_data"
    },
    {
     "data": {
      "text/plain": [
       "Eq(m*Derivative(x4(t), t), k1*(x1(t) - x2(t)))"
      ],
      "text/latex": "$\\displaystyle m \\frac{d}{d t} x_{4}{\\left(t \\right)} = k_{1} \\left(x_{1}{\\left(t \\right)} - x_{2}{\\left(t \\right)}\\right)$"
     },
     "metadata": {},
     "output_type": "display_data"
    },
    {
     "data": {
      "text/plain": [
       "Eq(J1*Derivative(theta_3(t), t), F_c*r + k2*(-theta_1(t) + theta_2(t)))"
      ],
      "text/latex": "$\\displaystyle J_{1} \\frac{d}{d t} \\theta_{3}{\\left(t \\right)} = F_{c} r + k_{2} \\left(- \\theta_{1}{\\left(t \\right)} + \\theta_{2}{\\left(t \\right)}\\right)$"
     },
     "metadata": {},
     "output_type": "display_data"
    },
    {
     "data": {
      "text/plain": [
       "Eq(J2*Derivative(theta_4(t), t), -B*theta_4(t) + k2*(theta_1(t) - theta_2(t)))"
      ],
      "text/latex": "$\\displaystyle J_{2} \\frac{d}{d t} \\theta_{4}{\\left(t \\right)} = - B \\theta_{4}{\\left(t \\right)} + k_{2} \\left(\\theta_{1}{\\left(t \\right)} - \\theta_{2}{\\left(t \\right)}\\right)$"
     },
     "metadata": {},
     "output_type": "display_data"
    },
    {
     "data": {
      "text/plain": [
       "Eq(Derivative(x3(t), t), r*Derivative(theta_3(t), t))"
      ],
      "text/latex": "$\\displaystyle \\frac{d}{d t} x_{3}{\\left(t \\right)} = r \\frac{d}{d t} \\theta_{3}{\\left(t \\right)}$"
     },
     "metadata": {},
     "output_type": "display_data"
    },
    {
     "data": {
      "text/plain": [
       "Eq(Derivative(x1(t), t), x3(t))"
      ],
      "text/latex": "$\\displaystyle \\frac{d}{d t} x_{1}{\\left(t \\right)} = x_{3}{\\left(t \\right)}$"
     },
     "metadata": {},
     "output_type": "display_data"
    },
    {
     "data": {
      "text/plain": [
       "Eq(Derivative(x2(t), t), x4(t))"
      ],
      "text/latex": "$\\displaystyle \\frac{d}{d t} x_{2}{\\left(t \\right)} = x_{4}{\\left(t \\right)}$"
     },
     "metadata": {},
     "output_type": "display_data"
    },
    {
     "data": {
      "text/plain": [
       "Eq(Derivative(theta_1(t), t), theta_3(t))"
      ],
      "text/latex": "$\\displaystyle \\frac{d}{d t} \\theta_{1}{\\left(t \\right)} = \\theta_{3}{\\left(t \\right)}$"
     },
     "metadata": {},
     "output_type": "display_data"
    },
    {
     "data": {
      "text/plain": [
       "Eq(Derivative(theta_2(t), t), theta_4(t))"
      ],
      "text/latex": "$\\displaystyle \\frac{d}{d t} \\theta_{2}{\\left(t \\right)} = \\theta_{4}{\\left(t \\right)}$"
     },
     "metadata": {},
     "output_type": "display_data"
    }
   ],
   "execution_count": 3
  },
  {
   "metadata": {
    "ExecuteTime": {
     "end_time": "2025-03-19T16:27:25.716156Z",
     "start_time": "2025-03-19T16:27:25.554269Z"
    }
   },
   "cell_type": "code",
   "source": [
    "# Solving\n",
    "# symbols to solve for\n",
    "diffs = (x1.diff(), x2.diff(), th1.diff(), th2.diff(), x3.diff(), x4.diff(), th3.diff(), th4.diff(), F_c)\n",
    "state_sol = sp.solve(eqs, diffs, dict=True)[0]\n",
    "rhs = []\n",
    "for key in diffs:\n",
    "    rhs.append(state_sol[key])\n",
    "    display(sp.Eq(key, state_sol[key]))"
   ],
   "id": "a24f70910a112759",
   "outputs": [
    {
     "data": {
      "text/plain": [
       "Eq(Derivative(x1(t), t), x3(t))"
      ],
      "text/latex": "$\\displaystyle \\frac{d}{d t} x_{1}{\\left(t \\right)} = x_{3}{\\left(t \\right)}$"
     },
     "metadata": {},
     "output_type": "display_data"
    },
    {
     "data": {
      "text/plain": [
       "Eq(Derivative(x2(t), t), x4(t))"
      ],
      "text/latex": "$\\displaystyle \\frac{d}{d t} x_{2}{\\left(t \\right)} = x_{4}{\\left(t \\right)}$"
     },
     "metadata": {},
     "output_type": "display_data"
    },
    {
     "data": {
      "text/plain": [
       "Eq(Derivative(theta_1(t), t), theta_3(t))"
      ],
      "text/latex": "$\\displaystyle \\frac{d}{d t} \\theta_{1}{\\left(t \\right)} = \\theta_{3}{\\left(t \\right)}$"
     },
     "metadata": {},
     "output_type": "display_data"
    },
    {
     "data": {
      "text/plain": [
       "Eq(Derivative(theta_2(t), t), theta_4(t))"
      ],
      "text/latex": "$\\displaystyle \\frac{d}{d t} \\theta_{2}{\\left(t \\right)} = \\theta_{4}{\\left(t \\right)}$"
     },
     "metadata": {},
     "output_type": "display_data"
    },
    {
     "data": {
      "text/plain": [
       "Eq(Derivative(x3(t), t), -b*r**2*x3(t)/J1 - k1*r**2*x1(t)/J1 + k1*r**2*x2(t)/J1 - k2*r*theta_1(t)/J1 + k2*r*theta_2(t)/J1 + r**2*f(t)/J1)"
      ],
      "text/latex": "$\\displaystyle \\frac{d}{d t} x_{3}{\\left(t \\right)} = - \\frac{b r^{2} x_{3}{\\left(t \\right)}}{J_{1}} - \\frac{k_{1} r^{2} x_{1}{\\left(t \\right)}}{J_{1}} + \\frac{k_{1} r^{2} x_{2}{\\left(t \\right)}}{J_{1}} - \\frac{k_{2} r \\theta_{1}{\\left(t \\right)}}{J_{1}} + \\frac{k_{2} r \\theta_{2}{\\left(t \\right)}}{J_{1}} + \\frac{r^{2} f{\\left(t \\right)}}{J_{1}}$"
     },
     "metadata": {},
     "output_type": "display_data"
    },
    {
     "data": {
      "text/plain": [
       "Eq(Derivative(x4(t), t), k1*x1(t)/m - k1*x2(t)/m)"
      ],
      "text/latex": "$\\displaystyle \\frac{d}{d t} x_{4}{\\left(t \\right)} = \\frac{k_{1} x_{1}{\\left(t \\right)}}{m} - \\frac{k_{1} x_{2}{\\left(t \\right)}}{m}$"
     },
     "metadata": {},
     "output_type": "display_data"
    },
    {
     "data": {
      "text/plain": [
       "Eq(Derivative(theta_3(t), t), -b*r*x3(t)/J1 - k1*r*x1(t)/J1 + k1*r*x2(t)/J1 - k2*theta_1(t)/J1 + k2*theta_2(t)/J1 + r*f(t)/J1)"
      ],
      "text/latex": "$\\displaystyle \\frac{d}{d t} \\theta_{3}{\\left(t \\right)} = - \\frac{b r x_{3}{\\left(t \\right)}}{J_{1}} - \\frac{k_{1} r x_{1}{\\left(t \\right)}}{J_{1}} + \\frac{k_{1} r x_{2}{\\left(t \\right)}}{J_{1}} - \\frac{k_{2} \\theta_{1}{\\left(t \\right)}}{J_{1}} + \\frac{k_{2} \\theta_{2}{\\left(t \\right)}}{J_{1}} + \\frac{r f{\\left(t \\right)}}{J_{1}}$"
     },
     "metadata": {},
     "output_type": "display_data"
    },
    {
     "data": {
      "text/plain": [
       "Eq(Derivative(theta_4(t), t), -B*theta_4(t)/J2 + k2*theta_1(t)/J2 - k2*theta_2(t)/J2)"
      ],
      "text/latex": "$\\displaystyle \\frac{d}{d t} \\theta_{4}{\\left(t \\right)} = - \\frac{B \\theta_{4}{\\left(t \\right)}}{J_{2}} + \\frac{k_{2} \\theta_{1}{\\left(t \\right)}}{J_{2}} - \\frac{k_{2} \\theta_{2}{\\left(t \\right)}}{J_{2}}$"
     },
     "metadata": {},
     "output_type": "display_data"
    },
    {
     "data": {
      "text/plain": [
       "Eq(F_c, -b*x3(t) - k1*x1(t) + k1*x2(t) + f(t))"
      ],
      "text/latex": "$\\displaystyle F_{c} = - b x_{3}{\\left(t \\right)} - k_{1} x_{1}{\\left(t \\right)} + k_{1} x_{2}{\\left(t \\right)} + f{\\left(t \\right)}$"
     },
     "metadata": {},
     "output_type": "display_data"
    }
   ],
   "execution_count": 4
  },
  {
   "metadata": {},
   "cell_type": "markdown",
   "source": "This is the state-variable form, but the state-space form is the matrix representation of the above system. The state-space form only uses the ODEs, so we neglect the solution for $F_c$ for now. I stored the solution for $F_c$ to be used later.",
   "id": "4e3e4860f9deb788"
  },
  {
   "metadata": {
    "tags": [
     "highlight-output"
    ],
    "ExecuteTime": {
     "end_time": "2025-03-19T16:27:26.012872Z",
     "start_time": "2025-03-19T16:27:25.732320Z"
    }
   },
   "cell_type": "code",
   "source": [
    "disps = [diff.integrate() for diff in diffs[:-1]]\n",
    "A, b = sp.linear_eq_to_matrix(rhs[:-1], disps)\n",
    "B = -b/f\n",
    "U = sp.Matrix([f])\n",
    "S_dot = sp.Matrix(diffs[:-1])\n",
    "ans = sp.Eq(S_dot, sp.Add(sp.MatMul(A, sp.Matrix(disps)), sp.MatMul(B, U)))\n",
    "ans"
   ],
   "id": "86fd09754d5e1280",
   "outputs": [
    {
     "data": {
      "text/plain": [
       "Eq(Matrix([\n",
       "[     Derivative(x1(t), t)],\n",
       "[     Derivative(x2(t), t)],\n",
       "[Derivative(theta_1(t), t)],\n",
       "[Derivative(theta_2(t), t)],\n",
       "[     Derivative(x3(t), t)],\n",
       "[     Derivative(x4(t), t)],\n",
       "[Derivative(theta_3(t), t)],\n",
       "[Derivative(theta_4(t), t)]]), Matrix([\n",
       "[      0],\n",
       "[      0],\n",
       "[      0],\n",
       "[      0],\n",
       "[r**2/J1],\n",
       "[      0],\n",
       "[   r/J1],\n",
       "[      0]])*Matrix([[f(t)]]) + Matrix([\n",
       "[          0,          0,        0,       0,          1, 0, 0,     0],\n",
       "[          0,          0,        0,       0,          0, 1, 0,     0],\n",
       "[          0,          0,        0,       0,          0, 0, 1,     0],\n",
       "[          0,          0,        0,       0,          0, 0, 0,     1],\n",
       "[-k1*r**2/J1, k1*r**2/J1, -k2*r/J1, k2*r/J1, -b*r**2/J1, 0, 0,     0],\n",
       "[       k1/m,      -k1/m,        0,       0,          0, 0, 0,     0],\n",
       "[   -k1*r/J1,    k1*r/J1,   -k2/J1,   k2/J1,    -b*r/J1, 0, 0,     0],\n",
       "[          0,          0,    k2/J2,  -k2/J2,          0, 0, 0, -B/J2]])*Matrix([\n",
       "[     x1(t)],\n",
       "[     x2(t)],\n",
       "[theta_1(t)],\n",
       "[theta_2(t)],\n",
       "[     x3(t)],\n",
       "[     x4(t)],\n",
       "[theta_3(t)],\n",
       "[theta_4(t)]]))"
      ],
      "text/latex": "$\\displaystyle \\left[\\begin{matrix}\\frac{d}{d t} x_{1}{\\left(t \\right)}\\\\\\frac{d}{d t} x_{2}{\\left(t \\right)}\\\\\\frac{d}{d t} \\theta_{1}{\\left(t \\right)}\\\\\\frac{d}{d t} \\theta_{2}{\\left(t \\right)}\\\\\\frac{d}{d t} x_{3}{\\left(t \\right)}\\\\\\frac{d}{d t} x_{4}{\\left(t \\right)}\\\\\\frac{d}{d t} \\theta_{3}{\\left(t \\right)}\\\\\\frac{d}{d t} \\theta_{4}{\\left(t \\right)}\\end{matrix}\\right] = \\left[\\begin{matrix}0\\\\0\\\\0\\\\0\\\\\\frac{r^{2}}{J_{1}}\\\\0\\\\\\frac{r}{J_{1}}\\\\0\\end{matrix}\\right] \\left[\\begin{matrix}f{\\left(t \\right)}\\end{matrix}\\right] + \\left[\\begin{matrix}0 & 0 & 0 & 0 & 1 & 0 & 0 & 0\\\\0 & 0 & 0 & 0 & 0 & 1 & 0 & 0\\\\0 & 0 & 0 & 0 & 0 & 0 & 1 & 0\\\\0 & 0 & 0 & 0 & 0 & 0 & 0 & 1\\\\- \\frac{k_{1} r^{2}}{J_{1}} & \\frac{k_{1} r^{2}}{J_{1}} & - \\frac{k_{2} r}{J_{1}} & \\frac{k_{2} r}{J_{1}} & - \\frac{b r^{2}}{J_{1}} & 0 & 0 & 0\\\\\\frac{k_{1}}{m} & - \\frac{k_{1}}{m} & 0 & 0 & 0 & 0 & 0 & 0\\\\- \\frac{k_{1} r}{J_{1}} & \\frac{k_{1} r}{J_{1}} & - \\frac{k_{2}}{J_{1}} & \\frac{k_{2}}{J_{1}} & - \\frac{b r}{J_{1}} & 0 & 0 & 0\\\\0 & 0 & \\frac{k_{2}}{J_{2}} & - \\frac{k_{2}}{J_{2}} & 0 & 0 & 0 & - \\frac{B}{J_{2}}\\end{matrix}\\right] \\left[\\begin{matrix}x_{1}{\\left(t \\right)}\\\\x_{2}{\\left(t \\right)}\\\\\\theta_{1}{\\left(t \\right)}\\\\\\theta_{2}{\\left(t \\right)}\\\\x_{3}{\\left(t \\right)}\\\\x_{4}{\\left(t \\right)}\\\\\\theta_{3}{\\left(t \\right)}\\\\\\theta_{4}{\\left(t \\right)}\\end{matrix}\\right]$"
     },
     "execution_count": 5,
     "metadata": {},
     "output_type": "execute_result"
    }
   ],
   "execution_count": 5
  }
 ],
 "metadata": {
  "kernelspec": {
   "display_name": "Python 3",
   "language": "python",
   "name": "python3"
  },
  "language_info": {
   "codemirror_mode": {
    "name": "ipython",
    "version": 2
   },
   "file_extension": ".py",
   "mimetype": "text/x-python",
   "name": "python",
   "nbconvert_exporter": "python",
   "pygments_lexer": "ipython2",
   "version": "2.7.6"
  }
 },
 "nbformat": 4,
 "nbformat_minor": 5
}
